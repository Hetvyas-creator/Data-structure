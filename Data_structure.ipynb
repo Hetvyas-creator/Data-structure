{
  "nbformat": 4,
  "nbformat_minor": 0,
  "metadata": {
    "colab": {
      "provenance": []
    },
    "kernelspec": {
      "name": "python3",
      "display_name": "Python 3"
    },
    "language_info": {
      "name": "python"
    }
  },
  "cells": [
    {
      "cell_type": "code",
      "execution_count": null,
      "metadata": {
        "id": "ipt3LWTGQsdm"
      },
      "outputs": [],
      "source": []
    },
    {
      "cell_type": "markdown",
      "source": [
        "# Data Structure Assignment\n"
      ],
      "metadata": {
        "id": "_p5o5QV4RzRr"
      }
    },
    {
      "cell_type": "markdown",
      "source": [],
      "metadata": {
        "id": "GhkK877YRxsQ"
      }
    },
    {
      "cell_type": "markdown",
      "source": [
        "1. What are data structures, and why are they important ?\n",
        "   - Data structures are ways of organizing and storing data so that it can be accessed and modified efficiently\n",
        "   Importance:\n",
        "Efficiency: They allow for optimized data retrieval, insertion, and deletion\n",
        "Organization: They provide a structured way to manage large amounts of data\n",
        "Reusability: They are fundamental building blocks for complex software systems\n",
        "\n",
        "2. Explain the difference between mutable and immutable data types with examples\n",
        "   - Mutable: Data types whose values can be changed after they are created. Examples: lists, dictionaries, sets.\n",
        "\n",
        "   - Immutable: Data types whose values cannot be changed after they are created. If you want to modify an immutable object, you have to create a new object. Examples: strings, tuples, integers, floats, booleans\n",
        "\n",
        "3. What are the main differences between lists and tuples in Python?\n",
        "   - Lists: Mutable, denoted by [], can be modified after creation\n",
        "   - Tuples: Immutable, denoted by (), cannot be modified after creation\n",
        "\n",
        "4. Describe how dictionaries store data?\n",
        "   - Dictionaries store data in key-value pairs. Each key must be unique, and it maps to a corresponding value. They use a hash table internally, which allows for fast lookups based on keys.\n",
        "\n",
        "5. Why might you use a set instead of a list in Python?\n",
        "   - Sets are used when you need to store unique elements and perform set operations (union, intersection, difference). They are more efficient than lists for checking membership.\n",
        "\n",
        "6. What is a string in Python, and how is it different from a list?\n",
        "   - A string is a sequence of characters. It is immutable.\n",
        "   - Difference:\n",
        "Strings are immutable, lists are mutable.\n",
        "Strings are designed for text, lists for general collections\n",
        "\n",
        "7.  How do tuples ensure data integrity in Python?\n",
        "   - Tuples ensure data integrity by being immutable. Once a tuple is created, its contents cannot be changed, preventing modifications\n",
        "\n",
        "8. What is a hash table, and how does it relate to dictionaries in Python?\n",
        "   - A hash table is a data structure that uses a hash function to map keys to indices in an array, allowing for fast lookups\n",
        "Dictionaries in Python use hash tables to store key-value pairs\n",
        "\n",
        "9. Can lists contain different data types in Python?\n",
        "   - Yes, lists in Python can contain elements of different data types\n",
        "\n",
        "10. Explain why strings are immutable in Python?\n",
        "   - Strings are immutable for efficiency and consistency. If strings were mutable, it would be harder to manage memory and ensure that string operations behave predictably\n",
        "\n",
        "11. What advantages do dictionaries offer over lists for certain tasks?\n",
        "   - Dictionaries offer faster lookups using keys, making them ideal for tasks where you need to retrieve values based on specific identifiers\n",
        "\n",
        "12. Describe a scenario where using a tuple would be preferable over a list?\n",
        "   - Using a tuple for coordinates (x, y) or for storing things settings that should not be changed\n",
        "\n",
        "13. How do sets handle duplicate values in Python?\n",
        "   - Sets automatically eliminate duplicate values. Only unique elements are stored\n",
        "\n",
        "14. How does the “in” keyword work differently for lists and dictionaries?\n",
        "   - For lists, in checks if a value exists in the list. For dictionaries, in checks if a key exists in the dictionary.\n",
        "\n",
        "15. Can you modify the elements of a tuple? Explain why or why not.\n",
        "   - No, you cannot modify the elements of a tuple because tuples are immutable\n",
        "\n",
        "16. What is a nested dictionary, and give an example of its use case?\n",
        "   - A nested dictionary is a dictionary within another dictionary\n",
        "   Example: Storing student information with nested dictionaries for addresses\n",
        "\n",
        "17. Describe the time complexity of accessing elements in a dictionary.\n",
        "   - The average time complexity of accessing elements in a dictionary is O(1) (constant time)\n",
        "\n",
        "18. In what situations are lists preferred over dictionaries?\n",
        "   - Lists are preferred when you need an ordered collection of elements and when you don't need to look up elements by keys.\n",
        "\n",
        "19. Why are dictionaries considered unordered, and how does that affect data retrieval?\n",
        "   - Before Python 3.7, dictionaries were unordered. From python 3.7 dictionaries preserve insertion order. Before that, the order of key-value pairs was not guaranteed.\n",
        "\n",
        "20.  Explain the difference between a list and a dictionary in terms of data retrieval?\n",
        "   - Lists are accessed by index (position), while dictionaries are accessed by key (identifier)\n",
        "\n"
      ],
      "metadata": {
        "id": "jI7-cmC5R4_e"
      }
    },
    {
      "cell_type": "code",
      "source": [
        "#1 Write a code to create a string with your name and print it\n",
        "\n",
        "name = \"Het\"\n",
        "print(name)"
      ],
      "metadata": {
        "colab": {
          "base_uri": "https://localhost:8080/"
        },
        "id": "o8SxkF5AXRfT",
        "outputId": "eff66aa8-657d-4fbc-94e6-59801e8a7a5a"
      },
      "execution_count": 2,
      "outputs": [
        {
          "output_type": "stream",
          "name": "stdout",
          "text": [
            "Het\n"
          ]
        }
      ]
    },
    {
      "cell_type": "code",
      "source": [
        "#2 Write a code to find the length of the string \"Hello World\"\n",
        "text = \"Hello World\"\n",
        "print(len(text))"
      ],
      "metadata": {
        "colab": {
          "base_uri": "https://localhost:8080/"
        },
        "id": "B39FsmOEXoH0",
        "outputId": "a2933c4c-2335-413f-d90f-6bc2c0f0c7ed"
      },
      "execution_count": 3,
      "outputs": [
        {
          "output_type": "stream",
          "name": "stdout",
          "text": [
            "11\n"
          ]
        }
      ]
    },
    {
      "cell_type": "code",
      "source": [
        "#3 Write a code to slice the first 3 characters from the string \"Python Programming\"\n",
        "text = \"Python Programming\"\n",
        "print(text[:3])"
      ],
      "metadata": {
        "colab": {
          "base_uri": "https://localhost:8080/"
        },
        "id": "vPZETp1PZibI",
        "outputId": "e05387e2-eb4e-4d07-c8c3-a8126c825832"
      },
      "execution_count": 4,
      "outputs": [
        {
          "output_type": "stream",
          "name": "stdout",
          "text": [
            "Pyt\n"
          ]
        }
      ]
    },
    {
      "cell_type": "code",
      "source": [
        "#4 Write a code to convert the string \"hello\" to uppercase\n",
        "text = \"hello\"\n",
        "print(text.upper())"
      ],
      "metadata": {
        "colab": {
          "base_uri": "https://localhost:8080/"
        },
        "id": "hvYBAkd4Zozx",
        "outputId": "89294c59-9d2a-4979-a091-b768ad62ab4a"
      },
      "execution_count": 5,
      "outputs": [
        {
          "output_type": "stream",
          "name": "stdout",
          "text": [
            "HELLO\n"
          ]
        }
      ]
    },
    {
      "cell_type": "code",
      "source": [
        "#5 Write a code to replace the word \"apple\" with \"orange\" in the string \"I like apple\".\n",
        "text = \"I like apple\"\n",
        "print(text.replace(\"apple\", \"orange\"))"
      ],
      "metadata": {
        "colab": {
          "base_uri": "https://localhost:8080/"
        },
        "id": "Gt5P5U3XZzz6",
        "outputId": "7e5c7772-a7b3-4344-e553-a36a8e56b0f3"
      },
      "execution_count": 6,
      "outputs": [
        {
          "output_type": "stream",
          "name": "stdout",
          "text": [
            "I like orange\n"
          ]
        }
      ]
    },
    {
      "cell_type": "code",
      "source": [
        "#6 Write a code to create a list with numbers 1 to 5 and print it.\n",
        "numbers = [1, 2, 3, 4, 5]\n",
        "print(numbers)"
      ],
      "metadata": {
        "colab": {
          "base_uri": "https://localhost:8080/"
        },
        "id": "SeFcxiT0Z5XA",
        "outputId": "561ac3ce-e3ee-4098-9332-82bde074f27b"
      },
      "execution_count": 7,
      "outputs": [
        {
          "output_type": "stream",
          "name": "stdout",
          "text": [
            "[1, 2, 3, 4, 5]\n"
          ]
        }
      ]
    },
    {
      "cell_type": "code",
      "source": [
        "#7Write a code to append the number 10 to the list [1, 2, 3, 4]\n",
        "numbers = [1, 2, 3, 4]\n",
        "numbers.append(10)\n",
        "print(numbers)"
      ],
      "metadata": {
        "colab": {
          "base_uri": "https://localhost:8080/"
        },
        "id": "zt4r9TWwZ-sI",
        "outputId": "bf733ec9-1024-4add-ecce-9aea497d9b5b"
      },
      "execution_count": 8,
      "outputs": [
        {
          "output_type": "stream",
          "name": "stdout",
          "text": [
            "[1, 2, 3, 4, 10]\n"
          ]
        }
      ]
    },
    {
      "cell_type": "code",
      "source": [
        "#8 Write a code to remove the number 3 from the list [1, 2, 3, 4, 5].\n",
        "numbers = [1, 2, 3, 4, 5]\n",
        "numbers.remove(3)\n",
        "print(numbers)"
      ],
      "metadata": {
        "colab": {
          "base_uri": "https://localhost:8080/"
        },
        "id": "AvD64Lg8aFgP",
        "outputId": "51f6bf9a-ceb4-4c1e-ad0f-b58750da1227"
      },
      "execution_count": 9,
      "outputs": [
        {
          "output_type": "stream",
          "name": "stdout",
          "text": [
            "[1, 2, 4, 5]\n"
          ]
        }
      ]
    },
    {
      "cell_type": "code",
      "source": [
        "#9 Write a code to access the second element in the list ['a', 'b', 'c', 'd'].\n",
        "letters = ['a', 'b', 'c', 'd']\n",
        "print(letters[1])"
      ],
      "metadata": {
        "colab": {
          "base_uri": "https://localhost:8080/"
        },
        "id": "Ese6VIEhaNxr",
        "outputId": "8bb3a863-ac5d-421a-dca7-e83ae1bbd26e"
      },
      "execution_count": 10,
      "outputs": [
        {
          "output_type": "stream",
          "name": "stdout",
          "text": [
            "b\n"
          ]
        }
      ]
    },
    {
      "cell_type": "code",
      "source": [
        "#10 Write a code to reverse the list [10, 20, 30, 40, 50]\n",
        "numbers = [10, 20, 30, 40, 50]\n",
        "numbers.reverse()\n",
        "print(numbers)"
      ],
      "metadata": {
        "colab": {
          "base_uri": "https://localhost:8080/"
        },
        "id": "PZJWmeuSaaDP",
        "outputId": "bb3cbfa9-a72d-4cda-c078-d5c1bf8b4d9d"
      },
      "execution_count": 11,
      "outputs": [
        {
          "output_type": "stream",
          "name": "stdout",
          "text": [
            "[50, 40, 30, 20, 10]\n"
          ]
        }
      ]
    },
    {
      "cell_type": "code",
      "source": [
        "#11 Write a code to create a tuple with the elements 100, 200, 300 and print it.\n",
        "my_tuple = (100, 200, 300)\n",
        "print(my_tuple)"
      ],
      "metadata": {
        "colab": {
          "base_uri": "https://localhost:8080/"
        },
        "id": "dcSj7ULAahN5",
        "outputId": "203f41a9-ba94-4ccc-8b78-e0ea08eb77d5"
      },
      "execution_count": 12,
      "outputs": [
        {
          "output_type": "stream",
          "name": "stdout",
          "text": [
            "(100, 200, 300)\n"
          ]
        }
      ]
    },
    {
      "cell_type": "code",
      "source": [
        "#12 Write a code to access the second-to-last element of the tuple ('red', 'green', 'blue', 'yellow').\n",
        "colors = ('red', 'green', 'blue', 'yellow')\n",
        "print(colors[-2])"
      ],
      "metadata": {
        "colab": {
          "base_uri": "https://localhost:8080/"
        },
        "id": "qq7WvWBTal6H",
        "outputId": "b1d1d011-cb8b-4d7c-d384-11ee350a88f8"
      },
      "execution_count": 13,
      "outputs": [
        {
          "output_type": "stream",
          "name": "stdout",
          "text": [
            "blue\n"
          ]
        }
      ]
    },
    {
      "cell_type": "code",
      "source": [
        "#13 Write a code to find the minimum number in the tuple (10, 20, 5, 15).\n",
        "numbers = (10, 20, 5, 15)\n",
        "print(min(numbers))"
      ],
      "metadata": {
        "colab": {
          "base_uri": "https://localhost:8080/"
        },
        "id": "eZSYxfF3aq4I",
        "outputId": "1e26cfb1-0ce8-4496-af25-3160f3b2595f"
      },
      "execution_count": 14,
      "outputs": [
        {
          "output_type": "stream",
          "name": "stdout",
          "text": [
            "5\n"
          ]
        }
      ]
    },
    {
      "cell_type": "code",
      "source": [
        "#14 Write a code to find the index of the element \"cat\" in the tuple ('dog', 'cat', 'rabbit').\n",
        "animals = ('dog', 'cat', 'rabbit')\n",
        "print(animals.index('cat'))"
      ],
      "metadata": {
        "colab": {
          "base_uri": "https://localhost:8080/"
        },
        "id": "nyMuSgz0avbo",
        "outputId": "ccac8d86-d0b6-40bc-e0be-120e83339a83"
      },
      "execution_count": 15,
      "outputs": [
        {
          "output_type": "stream",
          "name": "stdout",
          "text": [
            "1\n"
          ]
        }
      ]
    },
    {
      "cell_type": "code",
      "source": [
        "# 15. Write a code to create a tuple containing three different fruits and check if \"kiwi\" is in it.\n",
        "fruits = ('apple', 'banana', 'orange')\n",
        "print('kiwi' in fruits)"
      ],
      "metadata": {
        "colab": {
          "base_uri": "https://localhost:8080/"
        },
        "id": "GxV63lbJa18d",
        "outputId": "df246364-d619-4107-c15c-83dcd22f818b"
      },
      "execution_count": 16,
      "outputs": [
        {
          "output_type": "stream",
          "name": "stdout",
          "text": [
            "False\n"
          ]
        }
      ]
    },
    {
      "cell_type": "code",
      "source": [
        "# 16. Write a code to create a set with the elements 'a', 'b', 'c' and print it.\n",
        "my_set = {'a', 'b', 'c'}\n",
        "print(my_set)\n"
      ],
      "metadata": {
        "colab": {
          "base_uri": "https://localhost:8080/"
        },
        "id": "o7UOtzBha3qU",
        "outputId": "4e5b89ba-4d01-4f0f-adf2-a7f053a2907f"
      },
      "execution_count": 17,
      "outputs": [
        {
          "output_type": "stream",
          "name": "stdout",
          "text": [
            "{'b', 'c', 'a'}\n"
          ]
        }
      ]
    },
    {
      "cell_type": "code",
      "source": [
        "# 17. Write a code to clear all elements from the set {1, 2, 3, 4, 5}.\n",
        "my_set = {1, 2, 3, 4, 5}\n",
        "my_set.clear()\n",
        "print(my_set)"
      ],
      "metadata": {
        "colab": {
          "base_uri": "https://localhost:8080/"
        },
        "id": "DNf9UYkta6mu",
        "outputId": "6e30035b-ae64-435d-950a-606afdcf8422"
      },
      "execution_count": 18,
      "outputs": [
        {
          "output_type": "stream",
          "name": "stdout",
          "text": [
            "set()\n"
          ]
        }
      ]
    },
    {
      "cell_type": "code",
      "source": [
        "# 18. Write a code to remove the element 4 from the set {1, 2, 3, 4}.\n",
        "my_set = {1, 2, 3, 4}\n",
        "my_set.remove(4)\n",
        "print(my_set)\n"
      ],
      "metadata": {
        "colab": {
          "base_uri": "https://localhost:8080/"
        },
        "id": "WeprzcSGa8wz",
        "outputId": "ac42ddf6-6757-45f9-c1b9-ac5173ba9bb4"
      },
      "execution_count": 19,
      "outputs": [
        {
          "output_type": "stream",
          "name": "stdout",
          "text": [
            "{1, 2, 3}\n"
          ]
        }
      ]
    },
    {
      "cell_type": "code",
      "source": [
        "# 19. Write a code to find the union of two sets {1, 2, 3} and {3, 4, 5}.\n",
        "set1 = {1, 2, 3}\n",
        "set2 = {3, 4, 5}\n",
        "union_set = set1.union(set2)\n",
        "print(union_set)"
      ],
      "metadata": {
        "colab": {
          "base_uri": "https://localhost:8080/"
        },
        "id": "89jGNf4PbFdK",
        "outputId": "c7aafb4d-756f-4fdd-d7fd-2e51d5ef1972"
      },
      "execution_count": 20,
      "outputs": [
        {
          "output_type": "stream",
          "name": "stdout",
          "text": [
            "{1, 2, 3, 4, 5}\n"
          ]
        }
      ]
    },
    {
      "cell_type": "code",
      "source": [
        "# 20. Write a code to find the intersection of two sets {1, 2, 3} and {2, 3, 4}.\n",
        "set1 = {1, 2, 3}\n",
        "set2 = {2, 3, 4}\n",
        "intersection_set = set1.intersection(set2)\n",
        "print(intersection_set)"
      ],
      "metadata": {
        "colab": {
          "base_uri": "https://localhost:8080/"
        },
        "id": "qLM9NJ0FbHtw",
        "outputId": "25356e44-918a-4ce0-f132-737a1d393980"
      },
      "execution_count": 21,
      "outputs": [
        {
          "output_type": "stream",
          "name": "stdout",
          "text": [
            "{2, 3}\n"
          ]
        }
      ]
    },
    {
      "cell_type": "code",
      "source": [
        "# 21. Write a code to create a dictionary with the keys \"name\", \"age\", and \"city\", and print it.\n",
        "my_dict = {\"name\": \"Alice\", \"age\": 30, \"city\": \"New York\"}\n",
        "print(my_dict)"
      ],
      "metadata": {
        "colab": {
          "base_uri": "https://localhost:8080/"
        },
        "id": "sJRPpk-JbLvf",
        "outputId": "7a060f7d-7f26-40b7-a169-65eb62e0e86b"
      },
      "execution_count": 22,
      "outputs": [
        {
          "output_type": "stream",
          "name": "stdout",
          "text": [
            "{'name': 'Alice', 'age': 30, 'city': 'New York'}\n"
          ]
        }
      ]
    },
    {
      "cell_type": "code",
      "source": [
        "# 22. Write a code to add a new key-value pair \"country\": \"USA\" to the dictionary {'name': 'John', 'age': 25}.\n",
        "my_dict = {'name': 'HET', 'age': 20}\n",
        "my_dict[\"country\"] = \"USA\"\n",
        "print(my_dict)"
      ],
      "metadata": {
        "colab": {
          "base_uri": "https://localhost:8080/"
        },
        "id": "8MWOWIzybNkT",
        "outputId": "c02aa29d-cc54-4418-8df9-236f940e3953"
      },
      "execution_count": 23,
      "outputs": [
        {
          "output_type": "stream",
          "name": "stdout",
          "text": [
            "{'name': 'John', 'age': 25, 'country': 'USA'}\n"
          ]
        }
      ]
    },
    {
      "cell_type": "code",
      "source": [
        "# 23. Write a code to access the value associated with the key \"name\" in the dictionary {'name': 'Alice', 'age': 30}.\n",
        "my_dict = {'name': 'HET', 'age': 20}\n",
        "print(my_dict[\"name\"])"
      ],
      "metadata": {
        "colab": {
          "base_uri": "https://localhost:8080/"
        },
        "id": "Qh9TJ1LgbPvc",
        "outputId": "d2308a0c-e74a-40f9-ec67-f3d2efa1c004"
      },
      "execution_count": 24,
      "outputs": [
        {
          "output_type": "stream",
          "name": "stdout",
          "text": [
            "Alice\n"
          ]
        }
      ]
    },
    {
      "cell_type": "code",
      "source": [
        "# 24. Write a code to remove the key \"age\" from the dictionary {'name': 'Bob', 'age': 22, 'city': 'New York'}.\n",
        "my_dict = {'name': 'Het', 'age': 20, 'city': 'New York'}\n",
        "del my_dict[\"age\"]\n",
        "print(my_dict)\n"
      ],
      "metadata": {
        "colab": {
          "base_uri": "https://localhost:8080/"
        },
        "id": "DsYAPp8CbQ00",
        "outputId": "60940232-07e0-4ce2-e330-8138d821e6b0"
      },
      "execution_count": 25,
      "outputs": [
        {
          "output_type": "stream",
          "name": "stdout",
          "text": [
            "{'name': 'Bob', 'city': 'New York'}\n"
          ]
        }
      ]
    },
    {
      "cell_type": "code",
      "source": [
        "# 26. Write a code to create a list, a tuple, and a dictionary, and print them all.\n",
        "my_list = [1, 2, 3]\n",
        "my_tuple = (4, 5, 6)\n",
        "my_dict = {\"a\": 7, \"b\": 8}\n",
        "print(my_list)\n",
        "print(my_tuple)\n",
        "print(my_dict)"
      ],
      "metadata": {
        "colab": {
          "base_uri": "https://localhost:8080/"
        },
        "id": "XeBQ1rP1bdp7",
        "outputId": "2a2d5843-47dc-4c7c-d536-6c75fc955381"
      },
      "execution_count": 26,
      "outputs": [
        {
          "output_type": "stream",
          "name": "stdout",
          "text": [
            "[1, 2, 3]\n",
            "(4, 5, 6)\n",
            "{'a': 7, 'b': 8}\n"
          ]
        }
      ]
    },
    {
      "cell_type": "code",
      "source": [
        "# 27. Write a code to create a list of 5 random numbers between 1 and 100, sort it in ascending order, and print the result.\n",
        "import random\n",
        "\n",
        "random_numbers = [random.randint(1, 100) for _ in range(5)]\n",
        "random_numbers.sort()\n",
        "print(random_numbers"
      ],
      "metadata": {
        "colab": {
          "base_uri": "https://localhost:8080/",
          "height": 106
        },
        "id": "H3GreBhybheE",
        "outputId": "d5b52de7-deb2-4b65-ab3b-bd6fddf5c60f"
      },
      "execution_count": 28,
      "outputs": [
        {
          "output_type": "error",
          "ename": "SyntaxError",
          "evalue": "incomplete input (<ipython-input-28-11e3fa1f74ed>, line 6)",
          "traceback": [
            "\u001b[0;36m  File \u001b[0;32m\"<ipython-input-28-11e3fa1f74ed>\"\u001b[0;36m, line \u001b[0;32m6\u001b[0m\n\u001b[0;31m    print(random_numbers\u001b[0m\n\u001b[0m                        ^\u001b[0m\n\u001b[0;31mSyntaxError\u001b[0m\u001b[0;31m:\u001b[0m incomplete input\n"
          ]
        }
      ]
    },
    {
      "cell_type": "code",
      "source": [
        "# 28. Write a code to create a list with strings and print the element at the third index.\n",
        "string_list = [\"apple\", \"banana\", \"cherry\", \"date\"]\n",
        "print(string_list[3])"
      ],
      "metadata": {
        "colab": {
          "base_uri": "https://localhost:8080/"
        },
        "id": "0AiWgHZJbn8I",
        "outputId": "3ae024a9-58e9-41eb-ccad-b9321b9cf649"
      },
      "execution_count": 29,
      "outputs": [
        {
          "output_type": "stream",
          "name": "stdout",
          "text": [
            "date\n"
          ]
        }
      ]
    },
    {
      "cell_type": "code",
      "source": [
        "# 29. Write a code to combine two dictionaries into one and print the result.\n",
        "dict1 = {\"a\": 1, \"b\": 2}\n",
        "dict2 = {\"c\": 3, \"d\": 4}\n",
        "combined_dict = {**dict1, **dict2}\n",
        "print(combined_dict)"
      ],
      "metadata": {
        "colab": {
          "base_uri": "https://localhost:8080/"
        },
        "id": "gXUHZKnVbqDo",
        "outputId": "3f33004f-5746-475e-b65a-027604d15711"
      },
      "execution_count": 30,
      "outputs": [
        {
          "output_type": "stream",
          "name": "stdout",
          "text": [
            "{'a': 1, 'b': 2, 'c': 3, 'd': 4}\n"
          ]
        }
      ]
    },
    {
      "cell_type": "code",
      "source": [
        "# 30. Write a code to convert a list of strings into a set.\n",
        "string_list = [\"apple\", \"banana\", \"apple\", \"cherry\"]\n",
        "string_set = set(string_list)\n",
        "print(string_set)"
      ],
      "metadata": {
        "colab": {
          "base_uri": "https://localhost:8080/"
        },
        "id": "HB3GuC40br8k",
        "outputId": "17f36819-25b3-480a-a28f-5c023e6d8c4c"
      },
      "execution_count": 31,
      "outputs": [
        {
          "output_type": "stream",
          "name": "stdout",
          "text": [
            "{'apple', 'cherry', 'banana'}\n"
          ]
        }
      ]
    }
  ]
}